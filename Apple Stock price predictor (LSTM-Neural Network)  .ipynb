{
 "cells": [
  {
   "cell_type": "code",
   "execution_count": 57,
   "id": "113655dc",
   "metadata": {},
   "outputs": [],
   "source": [
    "import tensorflow as tf\n",
    "import keras as ks"
   ]
  },
  {
   "cell_type": "code",
   "execution_count": 58,
   "id": "554b201a",
   "metadata": {},
   "outputs": [],
   "source": [
    "import pandas as pd "
   ]
  },
  {
   "cell_type": "code",
   "execution_count": 59,
   "id": "df90f190",
   "metadata": {},
   "outputs": [],
   "source": [
    "import numpy as np "
   ]
  },
  {
   "cell_type": "code",
   "execution_count": 60,
   "id": "31de012a",
   "metadata": {},
   "outputs": [],
   "source": [
    "import matplotlib.pyplot as plt"
   ]
  },
  {
   "cell_type": "code",
   "execution_count": 61,
   "id": "e9329c9c",
   "metadata": {},
   "outputs": [
    {
     "name": "stdout",
     "output_type": "stream",
     "text": [
      "(250, 7)\n"
     ]
    },
    {
     "data": {
      "text/html": [
       "<div>\n",
       "<style scoped>\n",
       "    .dataframe tbody tr th:only-of-type {\n",
       "        vertical-align: middle;\n",
       "    }\n",
       "\n",
       "    .dataframe tbody tr th {\n",
       "        vertical-align: top;\n",
       "    }\n",
       "\n",
       "    .dataframe thead th {\n",
       "        text-align: right;\n",
       "    }\n",
       "</style>\n",
       "<table border=\"1\" class=\"dataframe\">\n",
       "  <thead>\n",
       "    <tr style=\"text-align: right;\">\n",
       "      <th></th>\n",
       "      <th>Date</th>\n",
       "      <th>Open</th>\n",
       "      <th>High</th>\n",
       "      <th>Low</th>\n",
       "      <th>Close</th>\n",
       "      <th>Adj Close</th>\n",
       "      <th>Volume</th>\n",
       "    </tr>\n",
       "  </thead>\n",
       "  <tbody>\n",
       "    <tr>\n",
       "      <th>0</th>\n",
       "      <td>2022-04-04</td>\n",
       "      <td>174.570007</td>\n",
       "      <td>178.490005</td>\n",
       "      <td>174.440002</td>\n",
       "      <td>178.440002</td>\n",
       "      <td>177.365570</td>\n",
       "      <td>76468400</td>\n",
       "    </tr>\n",
       "    <tr>\n",
       "      <th>1</th>\n",
       "      <td>2022-04-05</td>\n",
       "      <td>177.500000</td>\n",
       "      <td>178.300003</td>\n",
       "      <td>174.419998</td>\n",
       "      <td>175.059998</td>\n",
       "      <td>174.005920</td>\n",
       "      <td>73401800</td>\n",
       "    </tr>\n",
       "    <tr>\n",
       "      <th>2</th>\n",
       "      <td>2022-04-06</td>\n",
       "      <td>172.360001</td>\n",
       "      <td>173.630005</td>\n",
       "      <td>170.130005</td>\n",
       "      <td>171.830002</td>\n",
       "      <td>170.795380</td>\n",
       "      <td>89058800</td>\n",
       "    </tr>\n",
       "    <tr>\n",
       "      <th>3</th>\n",
       "      <td>2022-04-07</td>\n",
       "      <td>171.160004</td>\n",
       "      <td>173.360001</td>\n",
       "      <td>169.850006</td>\n",
       "      <td>172.139999</td>\n",
       "      <td>171.103516</td>\n",
       "      <td>77594700</td>\n",
       "    </tr>\n",
       "    <tr>\n",
       "      <th>4</th>\n",
       "      <td>2022-04-08</td>\n",
       "      <td>171.779999</td>\n",
       "      <td>171.779999</td>\n",
       "      <td>169.199997</td>\n",
       "      <td>170.089996</td>\n",
       "      <td>169.065842</td>\n",
       "      <td>76575500</td>\n",
       "    </tr>\n",
       "  </tbody>\n",
       "</table>\n",
       "</div>"
      ],
      "text/plain": [
       "         Date        Open        High         Low       Close   Adj Close   \n",
       "0  2022-04-04  174.570007  178.490005  174.440002  178.440002  177.365570  \\\n",
       "1  2022-04-05  177.500000  178.300003  174.419998  175.059998  174.005920   \n",
       "2  2022-04-06  172.360001  173.630005  170.130005  171.830002  170.795380   \n",
       "3  2022-04-07  171.160004  173.360001  169.850006  172.139999  171.103516   \n",
       "4  2022-04-08  171.779999  171.779999  169.199997  170.089996  169.065842   \n",
       "\n",
       "     Volume  \n",
       "0  76468400  \n",
       "1  73401800  \n",
       "2  89058800  \n",
       "3  77594700  \n",
       "4  76575500  "
      ]
     },
     "execution_count": 61,
     "metadata": {},
     "output_type": "execute_result"
    }
   ],
   "source": [
    "datafile = pd.read_csv(\"AAPL.csv\")\n",
    "print(datafile.shape)\n",
    "datafile.head()"
   ]
  },
  {
   "cell_type": "code",
   "execution_count": 62,
   "id": "18265d62",
   "metadata": {},
   "outputs": [
    {
     "data": {
      "text/html": [
       "<div>\n",
       "<style scoped>\n",
       "    .dataframe tbody tr th:only-of-type {\n",
       "        vertical-align: middle;\n",
       "    }\n",
       "\n",
       "    .dataframe tbody tr th {\n",
       "        vertical-align: top;\n",
       "    }\n",
       "\n",
       "    .dataframe thead th {\n",
       "        text-align: right;\n",
       "    }\n",
       "</style>\n",
       "<table border=\"1\" class=\"dataframe\">\n",
       "  <thead>\n",
       "    <tr style=\"text-align: right;\">\n",
       "      <th></th>\n",
       "      <th>Open</th>\n",
       "    </tr>\n",
       "  </thead>\n",
       "  <tbody>\n",
       "    <tr>\n",
       "      <th>0</th>\n",
       "      <td>174.570007</td>\n",
       "    </tr>\n",
       "    <tr>\n",
       "      <th>1</th>\n",
       "      <td>177.500000</td>\n",
       "    </tr>\n",
       "    <tr>\n",
       "      <th>2</th>\n",
       "      <td>172.360001</td>\n",
       "    </tr>\n",
       "    <tr>\n",
       "      <th>3</th>\n",
       "      <td>171.160004</td>\n",
       "    </tr>\n",
       "    <tr>\n",
       "      <th>4</th>\n",
       "      <td>171.779999</td>\n",
       "    </tr>\n",
       "  </tbody>\n",
       "</table>\n",
       "</div>"
      ],
      "text/plain": [
       "         Open\n",
       "0  174.570007\n",
       "1  177.500000\n",
       "2  172.360001\n",
       "3  171.160004\n",
       "4  171.779999"
      ]
     },
     "execution_count": 62,
     "metadata": {},
     "output_type": "execute_result"
    }
   ],
   "source": [
    "training_set = datafile.iloc[:,1:2]\n",
    "training_set.head()\n"
   ]
  },
  {
   "cell_type": "code",
   "execution_count": 63,
   "id": "adebb92d",
   "metadata": {},
   "outputs": [],
   "source": [
    "#scalining the data\n",
    "from sklearn.preprocessing import MinMaxScaler \n",
    "scaler = MinMaxScaler(feature_range =(0,1)) \n",
    "scaler.fit(training_set)\n",
    "#Compute the minimum and maximum to be used for later scaling\n",
    "scaled_training_set = scaler.transform(training_set)"
   ]
  },
  {
   "cell_type": "code",
   "execution_count": 64,
   "id": "8f920246",
   "metadata": {},
   "outputs": [
    {
     "name": "stdout",
     "output_type": "stream",
     "text": [
      "(237, 13)\n",
      "(237,)\n",
      "(237, 13, 1)\n"
     ]
    }
   ],
   "source": [
    "X_train = []\n",
    "y_train = []\n",
    "for i in range (13, 250):\n",
    "    X_train.append(scaled_training_set[i-13:i,0])\n",
    "    y_train.append(scaled_training_set[i,0])\n",
    "    \n",
    "X_train = np.array(X_train)\n",
    "y_train = np.array(y_train)\n",
    "print(X_train.shape)\n",
    "print(y_train.shape)\n",
    "\n",
    "X_train = np.reshape(X_train, (X_train.shape[0], X_train.shape[1],1))\n",
    "print(X_train.shape)\n"
   ]
  },
  {
   "cell_type": "code",
   "execution_count": 65,
   "id": "baf21ead",
   "metadata": {},
   "outputs": [],
   "source": [
    "from keras import models\n",
    "from keras.models import Sequential \n",
    "from keras.layers import LSTM\n",
    "from keras.layers import Dense\n",
    "from keras.layers import Dropout"
   ]
  },
  {
   "cell_type": "code",
   "execution_count": 66,
   "id": "3656bbaf",
   "metadata": {},
   "outputs": [],
   "source": [
    "#Building the Model by Importing the Crucial Libraries and Adding Different Layers to LSTM\n",
    "regressor = Sequential() \n",
    "\n",
    "regressor.add(LSTM(units=50, return_sequences = True, input_shape = (X_train.shape[1],1) ))\n",
    "regressor.add(Dropout(0.2))\n",
    "\n",
    "regressor.add(LSTM(units=50, return_sequences = True))\n",
    "regressor.add(Dropout(0.2))\n",
    "\n",
    "regressor.add(LSTM(units=50, return_sequences = True))\n",
    "regressor.add(Dropout(0.2))\n",
    "\n",
    "regressor.add(LSTM(units=50))\n",
    "regressor.add(Dropout(0.2))\n",
    "\n",
    "regressor.add(Dense(units=1))\n",
    "\n",
    "\n",
    "#each LSTM layer has 50 units, after which dropout of 0.2, helps the model from memoring too much -> overfitting\n",
    "#Dense layer with one unit of output, the output unit it the predicted numerical value "
   ]
  },
  {
   "cell_type": "code",
   "execution_count": 67,
   "id": "372efeb9",
   "metadata": {},
   "outputs": [
    {
     "name": "stdout",
     "output_type": "stream",
     "text": [
      "Epoch 1/100\n",
      "8/8 [==============================] - 6s 25ms/step - loss: 0.1239\n",
      "Epoch 2/100\n",
      "8/8 [==============================] - 0s 22ms/step - loss: 0.0375\n",
      "Epoch 3/100\n",
      "8/8 [==============================] - 0s 21ms/step - loss: 0.0325\n",
      "Epoch 4/100\n",
      "8/8 [==============================] - 0s 20ms/step - loss: 0.0281\n",
      "Epoch 5/100\n",
      "8/8 [==============================] - 0s 20ms/step - loss: 0.0238\n",
      "Epoch 6/100\n",
      "8/8 [==============================] - 0s 20ms/step - loss: 0.0243\n",
      "Epoch 7/100\n",
      "8/8 [==============================] - 0s 20ms/step - loss: 0.0229\n",
      "Epoch 8/100\n",
      "8/8 [==============================] - 0s 29ms/step - loss: 0.0216\n",
      "Epoch 9/100\n",
      "8/8 [==============================] - 0s 23ms/step - loss: 0.0242\n",
      "Epoch 10/100\n",
      "8/8 [==============================] - 0s 23ms/step - loss: 0.0220\n",
      "Epoch 11/100\n",
      "8/8 [==============================] - 0s 21ms/step - loss: 0.0228\n",
      "Epoch 12/100\n",
      "8/8 [==============================] - 0s 20ms/step - loss: 0.0228\n",
      "Epoch 13/100\n",
      "8/8 [==============================] - 0s 20ms/step - loss: 0.0239\n",
      "Epoch 14/100\n",
      "8/8 [==============================] - 0s 20ms/step - loss: 0.0230\n",
      "Epoch 15/100\n",
      "8/8 [==============================] - 0s 20ms/step - loss: 0.0205\n",
      "Epoch 16/100\n",
      "8/8 [==============================] - 0s 20ms/step - loss: 0.0198\n",
      "Epoch 17/100\n",
      "8/8 [==============================] - 0s 20ms/step - loss: 0.0208\n",
      "Epoch 18/100\n",
      "8/8 [==============================] - 0s 20ms/step - loss: 0.0211\n",
      "Epoch 19/100\n",
      "8/8 [==============================] - 0s 20ms/step - loss: 0.0205\n",
      "Epoch 20/100\n",
      "8/8 [==============================] - 0s 20ms/step - loss: 0.0202\n",
      "Epoch 21/100\n",
      "8/8 [==============================] - 0s 20ms/step - loss: 0.0197\n",
      "Epoch 22/100\n",
      "8/8 [==============================] - 0s 22ms/step - loss: 0.0174\n",
      "Epoch 23/100\n",
      "8/8 [==============================] - 0s 24ms/step - loss: 0.0181\n",
      "Epoch 24/100\n",
      "8/8 [==============================] - 0s 21ms/step - loss: 0.0177\n",
      "Epoch 25/100\n",
      "8/8 [==============================] - 0s 22ms/step - loss: 0.0178\n",
      "Epoch 26/100\n",
      "8/8 [==============================] - 0s 21ms/step - loss: 0.0166\n",
      "Epoch 27/100\n",
      "8/8 [==============================] - 0s 21ms/step - loss: 0.0164\n",
      "Epoch 28/100\n",
      "8/8 [==============================] - 0s 21ms/step - loss: 0.0155\n",
      "Epoch 29/100\n",
      "8/8 [==============================] - 0s 20ms/step - loss: 0.0164\n",
      "Epoch 30/100\n",
      "8/8 [==============================] - 0s 20ms/step - loss: 0.0132\n",
      "Epoch 31/100\n",
      "8/8 [==============================] - 0s 20ms/step - loss: 0.0144\n",
      "Epoch 32/100\n",
      "8/8 [==============================] - 0s 20ms/step - loss: 0.0147\n",
      "Epoch 33/100\n",
      "8/8 [==============================] - 0s 21ms/step - loss: 0.0137\n",
      "Epoch 34/100\n",
      "8/8 [==============================] - 0s 21ms/step - loss: 0.0150\n",
      "Epoch 35/100\n",
      "8/8 [==============================] - 0s 20ms/step - loss: 0.0162\n",
      "Epoch 36/100\n",
      "8/8 [==============================] - 0s 23ms/step - loss: 0.0164\n",
      "Epoch 37/100\n",
      "8/8 [==============================] - 0s 28ms/step - loss: 0.0125\n",
      "Epoch 38/100\n",
      "8/8 [==============================] - 0s 27ms/step - loss: 0.0132\n",
      "Epoch 39/100\n",
      "8/8 [==============================] - 0s 24ms/step - loss: 0.0127\n",
      "Epoch 40/100\n",
      "8/8 [==============================] - 0s 21ms/step - loss: 0.0127\n",
      "Epoch 41/100\n",
      "8/8 [==============================] - 0s 20ms/step - loss: 0.0129\n",
      "Epoch 42/100\n",
      "8/8 [==============================] - 0s 20ms/step - loss: 0.0120\n",
      "Epoch 43/100\n",
      "8/8 [==============================] - 0s 20ms/step - loss: 0.0111\n",
      "Epoch 44/100\n",
      "8/8 [==============================] - 0s 22ms/step - loss: 0.0129\n",
      "Epoch 45/100\n",
      "8/8 [==============================] - 0s 20ms/step - loss: 0.0124\n",
      "Epoch 46/100\n",
      "8/8 [==============================] - 0s 23ms/step - loss: 0.0130\n",
      "Epoch 47/100\n",
      "8/8 [==============================] - 0s 23ms/step - loss: 0.0120\n",
      "Epoch 48/100\n",
      "8/8 [==============================] - 0s 23ms/step - loss: 0.0121\n",
      "Epoch 49/100\n",
      "8/8 [==============================] - 0s 22ms/step - loss: 0.0120\n",
      "Epoch 50/100\n",
      "8/8 [==============================] - 0s 20ms/step - loss: 0.0112\n",
      "Epoch 51/100\n",
      "8/8 [==============================] - 0s 20ms/step - loss: 0.0107\n",
      "Epoch 52/100\n",
      "8/8 [==============================] - 0s 20ms/step - loss: 0.0109\n",
      "Epoch 53/100\n",
      "8/8 [==============================] - 0s 24ms/step - loss: 0.0104\n",
      "Epoch 54/100\n",
      "8/8 [==============================] - 0s 23ms/step - loss: 0.0107\n",
      "Epoch 55/100\n",
      "8/8 [==============================] - 0s 20ms/step - loss: 0.0117\n",
      "Epoch 56/100\n",
      "8/8 [==============================] - 0s 23ms/step - loss: 0.0114\n",
      "Epoch 57/100\n",
      "8/8 [==============================] - 0s 22ms/step - loss: 0.0115\n",
      "Epoch 58/100\n",
      "8/8 [==============================] - 0s 21ms/step - loss: 0.0112\n",
      "Epoch 59/100\n",
      "8/8 [==============================] - 0s 22ms/step - loss: 0.0118\n",
      "Epoch 60/100\n",
      "8/8 [==============================] - 0s 22ms/step - loss: 0.0108\n",
      "Epoch 61/100\n",
      "8/8 [==============================] - 0s 21ms/step - loss: 0.0109\n",
      "Epoch 62/100\n",
      "8/8 [==============================] - 0s 20ms/step - loss: 0.0096\n",
      "Epoch 63/100\n",
      "8/8 [==============================] - 0s 21ms/step - loss: 0.0097\n",
      "Epoch 64/100\n",
      "8/8 [==============================] - 0s 20ms/step - loss: 0.0098\n",
      "Epoch 65/100\n",
      "8/8 [==============================] - 0s 21ms/step - loss: 0.0120\n",
      "Epoch 66/100\n",
      "8/8 [==============================] - 0s 22ms/step - loss: 0.0105\n",
      "Epoch 67/100\n",
      "8/8 [==============================] - 0s 20ms/step - loss: 0.0097\n",
      "Epoch 68/100\n",
      "8/8 [==============================] - 0s 20ms/step - loss: 0.0114\n",
      "Epoch 69/100\n",
      "8/8 [==============================] - 0s 20ms/step - loss: 0.0100\n",
      "Epoch 70/100\n",
      "8/8 [==============================] - 0s 21ms/step - loss: 0.0101\n",
      "Epoch 71/100\n",
      "8/8 [==============================] - 0s 21ms/step - loss: 0.0104\n",
      "Epoch 72/100\n",
      "8/8 [==============================] - 0s 22ms/step - loss: 0.0109\n",
      "Epoch 73/100\n",
      "8/8 [==============================] - 0s 22ms/step - loss: 0.0096\n",
      "Epoch 74/100\n",
      "8/8 [==============================] - 0s 21ms/step - loss: 0.0095\n",
      "Epoch 75/100\n",
      "8/8 [==============================] - 0s 20ms/step - loss: 0.0097\n",
      "Epoch 76/100\n",
      "8/8 [==============================] - 0s 21ms/step - loss: 0.0101\n",
      "Epoch 77/100\n",
      "8/8 [==============================] - 0s 21ms/step - loss: 0.0091\n",
      "Epoch 78/100\n",
      "8/8 [==============================] - 0s 21ms/step - loss: 0.0105\n",
      "Epoch 79/100\n",
      "8/8 [==============================] - 0s 20ms/step - loss: 0.0093\n",
      "Epoch 80/100\n",
      "8/8 [==============================] - 0s 22ms/step - loss: 0.0101\n",
      "Epoch 81/100\n",
      "8/8 [==============================] - 0s 21ms/step - loss: 0.0108\n",
      "Epoch 82/100\n",
      "8/8 [==============================] - 0s 21ms/step - loss: 0.0111\n",
      "Epoch 83/100\n",
      "8/8 [==============================] - 0s 21ms/step - loss: 0.0099\n",
      "Epoch 84/100\n",
      "8/8 [==============================] - 0s 20ms/step - loss: 0.0102\n",
      "Epoch 85/100\n",
      "8/8 [==============================] - 0s 25ms/step - loss: 0.0115\n",
      "Epoch 86/100\n",
      "8/8 [==============================] - 0s 24ms/step - loss: 0.0133\n",
      "Epoch 87/100\n",
      "8/8 [==============================] - 0s 25ms/step - loss: 0.0092\n",
      "Epoch 88/100\n",
      "8/8 [==============================] - 0s 23ms/step - loss: 0.0101\n",
      "Epoch 89/100\n",
      "8/8 [==============================] - 0s 21ms/step - loss: 0.0088\n",
      "Epoch 90/100\n",
      "8/8 [==============================] - 0s 20ms/step - loss: 0.0090\n",
      "Epoch 91/100\n",
      "8/8 [==============================] - 0s 20ms/step - loss: 0.0085\n",
      "Epoch 92/100\n",
      "8/8 [==============================] - 0s 20ms/step - loss: 0.0082\n",
      "Epoch 93/100\n",
      "8/8 [==============================] - 0s 20ms/step - loss: 0.0086\n",
      "Epoch 94/100\n",
      "8/8 [==============================] - 0s 20ms/step - loss: 0.0089\n",
      "Epoch 95/100\n",
      "8/8 [==============================] - 0s 24ms/step - loss: 0.0081\n",
      "Epoch 96/100\n",
      "8/8 [==============================] - 0s 22ms/step - loss: 0.0085\n",
      "Epoch 97/100\n",
      "8/8 [==============================] - 0s 23ms/step - loss: 0.0084\n",
      "Epoch 98/100\n",
      "8/8 [==============================] - 0s 22ms/step - loss: 0.0090\n",
      "Epoch 99/100\n",
      "8/8 [==============================] - 0s 21ms/step - loss: 0.0094\n",
      "Epoch 100/100\n",
      "8/8 [==============================] - 0s 20ms/step - loss: 0.0075\n"
     ]
    },
    {
     "data": {
      "text/plain": [
       "<keras.callbacks.History at 0x1d8362ad0>"
      ]
     },
     "execution_count": 67,
     "metadata": {},
     "output_type": "execute_result"
    }
   ],
   "source": [
    "#fitting the model \n",
    "\n",
    "regressor.compile(optimizer=\"adam\", loss=\"mean_squared_error\")\n",
    "#sets up the model with an optimizer and a loss function, which are used during training\n",
    "regressor.fit(X_train,y_train,epochs=100, batch_size=32)"
   ]
  },
  {
   "cell_type": "code",
   "execution_count": 68,
   "id": "33e59a14",
   "metadata": {},
   "outputs": [
    {
     "data": {
      "text/html": [
       "<div>\n",
       "<style scoped>\n",
       "    .dataframe tbody tr th:only-of-type {\n",
       "        vertical-align: middle;\n",
       "    }\n",
       "\n",
       "    .dataframe tbody tr th {\n",
       "        vertical-align: top;\n",
       "    }\n",
       "\n",
       "    .dataframe thead th {\n",
       "        text-align: right;\n",
       "    }\n",
       "</style>\n",
       "<table border=\"1\" class=\"dataframe\">\n",
       "  <thead>\n",
       "    <tr style=\"text-align: right;\">\n",
       "      <th></th>\n",
       "      <th>Open</th>\n",
       "    </tr>\n",
       "  </thead>\n",
       "  <tbody>\n",
       "    <tr>\n",
       "      <th>0</th>\n",
       "      <td>148.899994</td>\n",
       "    </tr>\n",
       "    <tr>\n",
       "      <th>1</th>\n",
       "      <td>148.029999</td>\n",
       "    </tr>\n",
       "    <tr>\n",
       "      <th>2</th>\n",
       "      <td>152.570007</td>\n",
       "    </tr>\n",
       "    <tr>\n",
       "      <th>3</th>\n",
       "      <td>150.639999</td>\n",
       "    </tr>\n",
       "    <tr>\n",
       "      <th>4</th>\n",
       "      <td>153.880005</td>\n",
       "    </tr>\n",
       "  </tbody>\n",
       "</table>\n",
       "</div>"
      ],
      "text/plain": [
       "         Open\n",
       "0  148.899994\n",
       "1  148.029999\n",
       "2  152.570007\n",
       "3  150.639999\n",
       "4  153.880005"
      ]
     },
     "execution_count": 68,
     "metadata": {},
     "output_type": "execute_result"
    }
   ],
   "source": [
    "#Extracting the Actual Stock Prices of March-2023\n",
    "dataset_test = pd.read_csv(\"AAPL_test.csv\")\n",
    "actual_stock_price = dataset_test.iloc[:,1:2]\n",
    "actual_stock_price.head()"
   ]
  },
  {
   "cell_type": "code",
   "execution_count": 69,
   "id": "8e5951c0",
   "metadata": {},
   "outputs": [
    {
     "name": "stderr",
     "output_type": "stream",
     "text": [
      "/opt/anaconda3/envs/kerasenv/lib/python3.10/site-packages/sklearn/base.py:439: UserWarning: X does not have valid feature names, but MinMaxScaler was fitted with feature names\n",
      "  warnings.warn(\n"
     ]
    }
   ],
   "source": [
    "#prepares the test data for a time series prediction model\n",
    "dataset_total = pd.concat((datafile['Open'], dataset_test['Open']), axis=0)\n",
    "inputs = dataset_total[len(dataset_total)-len(dataset_test)-13:].values\n",
    "\n",
    "inputs = inputs.reshape(-1,1)\n",
    "inputs = scaler.transform(inputs)\n",
    "\n",
    "X_test =[]\n",
    "for i in range(13, len(inputs)):\n",
    "    X_test.append(inputs[i-13:i,0])\n",
    "\n",
    "X_test = np.array(X_test)\n",
    "X_test = np.reshape(X_test, (X_test.shape[0], X_test.shape[1],1))"
   ]
  },
  {
   "cell_type": "code",
   "execution_count": 70,
   "id": "d13bb01f",
   "metadata": {},
   "outputs": [
    {
     "name": "stdout",
     "output_type": "stream",
     "text": [
      "2/2 [==============================] - 1s 8ms/step\n"
     ]
    }
   ],
   "source": [
    "predicted_stock_price = regressor.predict(X_test)\n",
    "predicted_stock_price = scaler.inverse_transform(predicted_stock_price)"
   ]
  },
  {
   "cell_type": "code",
   "execution_count": 71,
   "id": "62b8ebb7",
   "metadata": {},
   "outputs": [
    {
     "data": {
      "text/plain": [
       "<function matplotlib.pyplot.legend(*args, **kwargs)>"
      ]
     },
     "execution_count": 71,
     "metadata": {},
     "output_type": "execute_result"
    },
    {
     "data": {
      "image/png": "[encoded data removed]",
      "text/plain": [
       "<Figure size 432x288 with 1 Axes>"
      ]
     },
     "metadata": {
      "needs_background": "light"
     },
     "output_type": "display_data"
    }
   ],
   "source": [
    "plt.plot(actual_stock_price, color =\"red\", label= \"actual stock price\")\n",
    "plt.plot(predicted_stock_price, color= \"blue\", label=\"predicted stock price\")\n",
    "plt.title(\"Apple stock price predictions\")\n",
    "plt.xlabel('Time')\n",
    "plt.ylabel('Apple stock price in USD')\n",
    "plt.legend"
   ]
  },
  {
   "cell_type": "code",
   "execution_count": 72,
   "id": "b3feba21",
   "metadata": {},
   "outputs": [
    {
     "name": "stdout",
     "output_type": "stream",
     "text": [
      "Root Mean Squared Error: 3.9599550828236185\n",
      "Mean Absolute Error (MAE): 3.074715599299734\n",
      "Mean Squared Error (MSE): 15.68124425798061\n"
     ]
    }
   ],
   "source": [
    "from sklearn.metrics import mean_squared_error\n",
    "rmse = np.sqrt(mean_squared_error(actual_stock_price, predicted_stock_price))\n",
    "print('Root Mean Squared Error:', rmse)\n",
    "from sklearn.metrics import mean_absolute_error\n",
    "mae = mean_absolute_error(actual_stock_price, predicted_stock_price)\n",
    "print(\"Mean Absolute Error (MAE):\", mae)\n",
    "\n",
    "# Calculate Mean Squared Error (MSE)\n",
    "from sklearn.metrics import mean_squared_error\n",
    "mse = mean_squared_error(actual_stock_price, predicted_stock_price)\n",
    "print(\"Mean Squared Error (MSE):\", mse)"
   ]
  },
  {
   "cell_type": "code",
   "execution_count": null,
   "id": "2d86b692",
   "metadata": {},
   "outputs": [],
   "source": []
  }
 ],
 "metadata": {
  "kernelspec": {
   "display_name": "kerasenv",
   "language": "python",
   "name": "kerasenv"
  },
  "language_info": {
   "codemirror_mode": {
    "name": "ipython",
    "version": 3
   },
   "file_extension": ".py",
   "mimetype": "text/x-python",
   "name": "python",
   "nbconvert_exporter": "python",
   "pygments_lexer": "ipython3",
   "version": "3.10.10"
  }
 },
 "nbformat": 4,
 "nbformat_minor": 5
}
